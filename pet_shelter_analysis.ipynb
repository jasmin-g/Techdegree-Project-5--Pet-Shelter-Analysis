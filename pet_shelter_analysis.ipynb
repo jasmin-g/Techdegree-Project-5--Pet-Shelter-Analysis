{
 "cells": [
  {
   "cell_type": "code",
   "execution_count": 1,
   "id": "e26be2d1",
   "metadata": {},
   "outputs": [],
   "source": [
    "import numpy as np\n",
    "import pandas as pd"
   ]
  },
  {
   "cell_type": "code",
   "execution_count": 2,
   "id": "6a2b3b26",
   "metadata": {},
   "outputs": [],
   "source": [
    "intakes = pd.read_csv('aac_intakes.csv')\n",
    "intakes_outcomes = pd.read_csv('aac_intakes_outcomes.csv')\n",
    "outcomes = pd.read_csv('aac_outcomes.csv')"
   ]
  },
  {
   "cell_type": "code",
   "execution_count": null,
   "id": "84de3aee",
   "metadata": {},
   "outputs": [],
   "source": []
  },
  {
   "cell_type": "markdown",
   "id": "5325ca63",
   "metadata": {},
   "source": [
    "# Exploring and cleaning intakes file"
   ]
  },
  {
   "cell_type": "code",
   "execution_count": 3,
   "id": "45c92306",
   "metadata": {},
   "outputs": [
    {
     "data": {
      "text/html": [
       "<div>\n",
       "<style scoped>\n",
       "    .dataframe tbody tr th:only-of-type {\n",
       "        vertical-align: middle;\n",
       "    }\n",
       "\n",
       "    .dataframe tbody tr th {\n",
       "        vertical-align: top;\n",
       "    }\n",
       "\n",
       "    .dataframe thead th {\n",
       "        text-align: right;\n",
       "    }\n",
       "</style>\n",
       "<table border=\"1\" class=\"dataframe\">\n",
       "  <thead>\n",
       "    <tr style=\"text-align: right;\">\n",
       "      <th></th>\n",
       "      <th>age_upon_intake</th>\n",
       "      <th>animal_id</th>\n",
       "      <th>animal_type</th>\n",
       "      <th>breed</th>\n",
       "      <th>color</th>\n",
       "      <th>datetime</th>\n",
       "      <th>datetime2</th>\n",
       "      <th>found_location</th>\n",
       "      <th>intake_condition</th>\n",
       "      <th>intake_type</th>\n",
       "      <th>name</th>\n",
       "      <th>sex_upon_intake</th>\n",
       "    </tr>\n",
       "  </thead>\n",
       "  <tbody>\n",
       "    <tr>\n",
       "      <th>0</th>\n",
       "      <td>8 years</td>\n",
       "      <td>A706918</td>\n",
       "      <td>Dog</td>\n",
       "      <td>English Springer Spaniel</td>\n",
       "      <td>White/Liver</td>\n",
       "      <td>2015-07-05T12:59:00.000</td>\n",
       "      <td>2015-07-05T12:59:00.000</td>\n",
       "      <td>9409 Bluegrass Dr in Austin (TX)</td>\n",
       "      <td>Normal</td>\n",
       "      <td>Stray</td>\n",
       "      <td>Belle</td>\n",
       "      <td>Spayed Female</td>\n",
       "    </tr>\n",
       "    <tr>\n",
       "      <th>1</th>\n",
       "      <td>11 months</td>\n",
       "      <td>A724273</td>\n",
       "      <td>Dog</td>\n",
       "      <td>Basenji Mix</td>\n",
       "      <td>Sable/White</td>\n",
       "      <td>2016-04-14T18:43:00.000</td>\n",
       "      <td>2016-04-14T18:43:00.000</td>\n",
       "      <td>2818 Palomino Trail in Austin (TX)</td>\n",
       "      <td>Normal</td>\n",
       "      <td>Stray</td>\n",
       "      <td>Runster</td>\n",
       "      <td>Intact Male</td>\n",
       "    </tr>\n",
       "    <tr>\n",
       "      <th>2</th>\n",
       "      <td>4 weeks</td>\n",
       "      <td>A665644</td>\n",
       "      <td>Cat</td>\n",
       "      <td>Domestic Shorthair Mix</td>\n",
       "      <td>Calico</td>\n",
       "      <td>2013-10-21T07:59:00.000</td>\n",
       "      <td>2013-10-21T07:59:00.000</td>\n",
       "      <td>Austin (TX)</td>\n",
       "      <td>Sick</td>\n",
       "      <td>Stray</td>\n",
       "      <td>NaN</td>\n",
       "      <td>Intact Female</td>\n",
       "    </tr>\n",
       "    <tr>\n",
       "      <th>3</th>\n",
       "      <td>4 years</td>\n",
       "      <td>A682524</td>\n",
       "      <td>Dog</td>\n",
       "      <td>Doberman Pinsch/Australian Cattle Dog</td>\n",
       "      <td>Tan/Gray</td>\n",
       "      <td>2014-06-29T10:38:00.000</td>\n",
       "      <td>2014-06-29T10:38:00.000</td>\n",
       "      <td>800 Grove Blvd in Austin (TX)</td>\n",
       "      <td>Normal</td>\n",
       "      <td>Stray</td>\n",
       "      <td>Rio</td>\n",
       "      <td>Neutered Male</td>\n",
       "    </tr>\n",
       "    <tr>\n",
       "      <th>4</th>\n",
       "      <td>2 years</td>\n",
       "      <td>A743852</td>\n",
       "      <td>Dog</td>\n",
       "      <td>Labrador Retriever Mix</td>\n",
       "      <td>Chocolate</td>\n",
       "      <td>2017-02-18T12:46:00.000</td>\n",
       "      <td>2017-02-18T12:46:00.000</td>\n",
       "      <td>Austin (TX)</td>\n",
       "      <td>Normal</td>\n",
       "      <td>Owner Surrender</td>\n",
       "      <td>Odin</td>\n",
       "      <td>Neutered Male</td>\n",
       "    </tr>\n",
       "  </tbody>\n",
       "</table>\n",
       "</div>"
      ],
      "text/plain": [
       "  age_upon_intake animal_id animal_type  \\\n",
       "0         8 years   A706918         Dog   \n",
       "1       11 months   A724273         Dog   \n",
       "2         4 weeks   A665644         Cat   \n",
       "3         4 years   A682524         Dog   \n",
       "4         2 years   A743852         Dog   \n",
       "\n",
       "                                   breed        color  \\\n",
       "0               English Springer Spaniel  White/Liver   \n",
       "1                            Basenji Mix  Sable/White   \n",
       "2                 Domestic Shorthair Mix       Calico   \n",
       "3  Doberman Pinsch/Australian Cattle Dog     Tan/Gray   \n",
       "4                 Labrador Retriever Mix    Chocolate   \n",
       "\n",
       "                  datetime                datetime2  \\\n",
       "0  2015-07-05T12:59:00.000  2015-07-05T12:59:00.000   \n",
       "1  2016-04-14T18:43:00.000  2016-04-14T18:43:00.000   \n",
       "2  2013-10-21T07:59:00.000  2013-10-21T07:59:00.000   \n",
       "3  2014-06-29T10:38:00.000  2014-06-29T10:38:00.000   \n",
       "4  2017-02-18T12:46:00.000  2017-02-18T12:46:00.000   \n",
       "\n",
       "                       found_location intake_condition      intake_type  \\\n",
       "0    9409 Bluegrass Dr in Austin (TX)           Normal            Stray   \n",
       "1  2818 Palomino Trail in Austin (TX)           Normal            Stray   \n",
       "2                         Austin (TX)             Sick            Stray   \n",
       "3       800 Grove Blvd in Austin (TX)           Normal            Stray   \n",
       "4                         Austin (TX)           Normal  Owner Surrender   \n",
       "\n",
       "      name sex_upon_intake  \n",
       "0    Belle   Spayed Female  \n",
       "1  Runster     Intact Male  \n",
       "2      NaN   Intact Female  \n",
       "3      Rio   Neutered Male  \n",
       "4     Odin   Neutered Male  "
      ]
     },
     "execution_count": 3,
     "metadata": {},
     "output_type": "execute_result"
    }
   ],
   "source": [
    "intakes.head()"
   ]
  },
  {
   "cell_type": "code",
   "execution_count": 4,
   "id": "be2f9c34",
   "metadata": {},
   "outputs": [
    {
     "data": {
      "text/plain": [
       "(80187, 12)"
      ]
     },
     "execution_count": 4,
     "metadata": {},
     "output_type": "execute_result"
    }
   ],
   "source": [
    "intakes.shape"
   ]
  },
  {
   "cell_type": "code",
   "execution_count": 5,
   "id": "086b1128",
   "metadata": {},
   "outputs": [
    {
     "data": {
      "text/plain": [
       "age_upon_intake     object\n",
       "animal_id           object\n",
       "animal_type         object\n",
       "breed               object\n",
       "color               object\n",
       "datetime            object\n",
       "datetime2           object\n",
       "found_location      object\n",
       "intake_condition    object\n",
       "intake_type         object\n",
       "name                object\n",
       "sex_upon_intake     object\n",
       "dtype: object"
      ]
     },
     "execution_count": 5,
     "metadata": {},
     "output_type": "execute_result"
    }
   ],
   "source": [
    "intakes.dtypes"
   ]
  },
  {
   "cell_type": "code",
   "execution_count": 6,
   "id": "e28261f1",
   "metadata": {},
   "outputs": [
    {
     "data": {
      "text/plain": [
       "True"
      ]
     },
     "execution_count": 6,
     "metadata": {},
     "output_type": "execute_result"
    }
   ],
   "source": [
    "#checking if both datetime columns are the same. If so, I will drop one\n",
    "intakes['datetime'].equals(intakes['datetime2'])"
   ]
  },
  {
   "cell_type": "code",
   "execution_count": 7,
   "id": "be1d4cae",
   "metadata": {},
   "outputs": [],
   "source": [
    "intakes = intakes.drop(['datetime2'], axis=1)"
   ]
  },
  {
   "cell_type": "code",
   "execution_count": 8,
   "id": "253356cd",
   "metadata": {},
   "outputs": [
    {
     "data": {
      "text/plain": [
       "(80187, 11)"
      ]
     },
     "execution_count": 8,
     "metadata": {},
     "output_type": "execute_result"
    }
   ],
   "source": [
    "intakes.shape"
   ]
  },
  {
   "cell_type": "code",
   "execution_count": 9,
   "id": "1019a7c2",
   "metadata": {},
   "outputs": [
    {
     "data": {
      "text/plain": [
       "age_upon_intake             object\n",
       "animal_id                   object\n",
       "animal_type                 object\n",
       "breed                       object\n",
       "color                       object\n",
       "datetime            datetime64[ns]\n",
       "found_location              object\n",
       "intake_condition            object\n",
       "intake_type                 object\n",
       "name                        object\n",
       "sex_upon_intake             object\n",
       "dtype: object"
      ]
     },
     "execution_count": 9,
     "metadata": {},
     "output_type": "execute_result"
    }
   ],
   "source": [
    "#changing col 'datetime' to datetime type\n",
    "intakes['datetime'] = pd.to_datetime(intakes['datetime'])\n",
    "intakes.dtypes"
   ]
  },
  {
   "cell_type": "code",
   "execution_count": 10,
   "id": "638eb7f5",
   "metadata": {},
   "outputs": [
    {
     "data": {
      "text/plain": [
       "age_upon_intake         0\n",
       "animal_id               0\n",
       "animal_type             0\n",
       "breed                   0\n",
       "color                   0\n",
       "datetime                0\n",
       "found_location          0\n",
       "intake_condition        0\n",
       "intake_type             0\n",
       "name                24584\n",
       "sex_upon_intake         1\n",
       "dtype: int64"
      ]
     },
     "execution_count": 10,
     "metadata": {},
     "output_type": "execute_result"
    }
   ],
   "source": [
    "#cleaning NaN's\n",
    "intakes.isna().sum()"
   ]
  },
  {
   "cell_type": "code",
   "execution_count": 11,
   "id": "351f5835",
   "metadata": {},
   "outputs": [],
   "source": [
    "intakes['name'] = intakes['name'].fillna('unknown')"
   ]
  },
  {
   "cell_type": "code",
   "execution_count": 12,
   "id": "b1fe3d28",
   "metadata": {},
   "outputs": [
    {
     "data": {
      "text/plain": [
       "Intact Male      25488\n",
       "Intact Female    23860\n",
       "Neutered Male    12794\n",
       "Spayed Female    11231\n",
       "Unknown           6813\n",
       "NaN                  1\n",
       "Name: sex_upon_intake, dtype: int64"
      ]
     },
     "execution_count": 12,
     "metadata": {},
     "output_type": "execute_result"
    }
   ],
   "source": [
    "intakes['sex_upon_intake'].value_counts(dropna=False)"
   ]
  },
  {
   "cell_type": "code",
   "execution_count": 13,
   "id": "fa0c781f",
   "metadata": {},
   "outputs": [],
   "source": [
    "intakes['sex_upon_intake'] = intakes['sex_upon_intake'].fillna('Unkown')"
   ]
  },
  {
   "cell_type": "code",
   "execution_count": 14,
   "id": "02965d8e",
   "metadata": {},
   "outputs": [
    {
     "data": {
      "text/plain": [
       "age_upon_intake     0\n",
       "animal_id           0\n",
       "animal_type         0\n",
       "breed               0\n",
       "color               0\n",
       "datetime            0\n",
       "found_location      0\n",
       "intake_condition    0\n",
       "intake_type         0\n",
       "name                0\n",
       "sex_upon_intake     0\n",
       "dtype: int64"
      ]
     },
     "execution_count": 14,
     "metadata": {},
     "output_type": "execute_result"
    }
   ],
   "source": [
    "intakes.isna().sum()"
   ]
  },
  {
   "cell_type": "code",
   "execution_count": null,
   "id": "8acc1fe9",
   "metadata": {},
   "outputs": [],
   "source": []
  },
  {
   "cell_type": "markdown",
   "id": "84c24888",
   "metadata": {},
   "source": [
    "# Exploring and cleaning intakes_outcomes file"
   ]
  },
  {
   "cell_type": "code",
   "execution_count": 15,
   "id": "4fc281c5",
   "metadata": {},
   "outputs": [
    {
     "data": {
      "text/html": [
       "<div>\n",
       "<style scoped>\n",
       "    .dataframe tbody tr th:only-of-type {\n",
       "        vertical-align: middle;\n",
       "    }\n",
       "\n",
       "    .dataframe tbody tr th {\n",
       "        vertical-align: top;\n",
       "    }\n",
       "\n",
       "    .dataframe thead th {\n",
       "        text-align: right;\n",
       "    }\n",
       "</style>\n",
       "<table border=\"1\" class=\"dataframe\">\n",
       "  <thead>\n",
       "    <tr style=\"text-align: right;\">\n",
       "      <th></th>\n",
       "      <th>age_upon_outcome</th>\n",
       "      <th>animal_id_outcome</th>\n",
       "      <th>date_of_birth</th>\n",
       "      <th>outcome_subtype</th>\n",
       "      <th>outcome_type</th>\n",
       "      <th>sex_upon_outcome</th>\n",
       "      <th>age_upon_outcome_(days)</th>\n",
       "      <th>age_upon_outcome_(years)</th>\n",
       "      <th>age_upon_outcome_age_group</th>\n",
       "      <th>outcome_datetime</th>\n",
       "      <th>...</th>\n",
       "      <th>age_upon_intake_age_group</th>\n",
       "      <th>intake_datetime</th>\n",
       "      <th>intake_month</th>\n",
       "      <th>intake_year</th>\n",
       "      <th>intake_monthyear</th>\n",
       "      <th>intake_weekday</th>\n",
       "      <th>intake_hour</th>\n",
       "      <th>intake_number</th>\n",
       "      <th>time_in_shelter</th>\n",
       "      <th>time_in_shelter_days</th>\n",
       "    </tr>\n",
       "  </thead>\n",
       "  <tbody>\n",
       "    <tr>\n",
       "      <th>0</th>\n",
       "      <td>10 years</td>\n",
       "      <td>A006100</td>\n",
       "      <td>2007-07-09 00:00:00</td>\n",
       "      <td>NaN</td>\n",
       "      <td>Return to Owner</td>\n",
       "      <td>Neutered Male</td>\n",
       "      <td>3650</td>\n",
       "      <td>10.0</td>\n",
       "      <td>(7.5, 10.0]</td>\n",
       "      <td>2017-12-07 14:07:00</td>\n",
       "      <td>...</td>\n",
       "      <td>(7.5, 10.0]</td>\n",
       "      <td>2017-12-07 00:00:00</td>\n",
       "      <td>12</td>\n",
       "      <td>2017</td>\n",
       "      <td>2017-12</td>\n",
       "      <td>Thursday</td>\n",
       "      <td>14</td>\n",
       "      <td>1.0</td>\n",
       "      <td>0 days 14:07:00.000000000</td>\n",
       "      <td>0.588194</td>\n",
       "    </tr>\n",
       "    <tr>\n",
       "      <th>1</th>\n",
       "      <td>7 years</td>\n",
       "      <td>A006100</td>\n",
       "      <td>2007-07-09 00:00:00</td>\n",
       "      <td>NaN</td>\n",
       "      <td>Return to Owner</td>\n",
       "      <td>Neutered Male</td>\n",
       "      <td>2555</td>\n",
       "      <td>7.0</td>\n",
       "      <td>(5.0, 7.5]</td>\n",
       "      <td>2014-12-20 16:35:00</td>\n",
       "      <td>...</td>\n",
       "      <td>(5.0, 7.5]</td>\n",
       "      <td>2014-12-19 10:21:00</td>\n",
       "      <td>12</td>\n",
       "      <td>2014</td>\n",
       "      <td>2014-12</td>\n",
       "      <td>Friday</td>\n",
       "      <td>10</td>\n",
       "      <td>2.0</td>\n",
       "      <td>1 days 06:14:00.000000000</td>\n",
       "      <td>1.259722</td>\n",
       "    </tr>\n",
       "    <tr>\n",
       "      <th>2</th>\n",
       "      <td>6 years</td>\n",
       "      <td>A006100</td>\n",
       "      <td>2007-07-09 00:00:00</td>\n",
       "      <td>NaN</td>\n",
       "      <td>Return to Owner</td>\n",
       "      <td>Neutered Male</td>\n",
       "      <td>2190</td>\n",
       "      <td>6.0</td>\n",
       "      <td>(5.0, 7.5]</td>\n",
       "      <td>2014-03-08 17:10:00</td>\n",
       "      <td>...</td>\n",
       "      <td>(5.0, 7.5]</td>\n",
       "      <td>2014-03-07 14:26:00</td>\n",
       "      <td>3</td>\n",
       "      <td>2014</td>\n",
       "      <td>2014-03</td>\n",
       "      <td>Friday</td>\n",
       "      <td>14</td>\n",
       "      <td>3.0</td>\n",
       "      <td>1 days 02:44:00.000000000</td>\n",
       "      <td>1.113889</td>\n",
       "    </tr>\n",
       "    <tr>\n",
       "      <th>3</th>\n",
       "      <td>10 years</td>\n",
       "      <td>A047759</td>\n",
       "      <td>2004-04-02 00:00:00</td>\n",
       "      <td>Partner</td>\n",
       "      <td>Transfer</td>\n",
       "      <td>Neutered Male</td>\n",
       "      <td>3650</td>\n",
       "      <td>10.0</td>\n",
       "      <td>(7.5, 10.0]</td>\n",
       "      <td>2014-04-07 15:12:00</td>\n",
       "      <td>...</td>\n",
       "      <td>(7.5, 10.0]</td>\n",
       "      <td>2014-04-02 15:55:00</td>\n",
       "      <td>4</td>\n",
       "      <td>2014</td>\n",
       "      <td>2014-04</td>\n",
       "      <td>Wednesday</td>\n",
       "      <td>15</td>\n",
       "      <td>1.0</td>\n",
       "      <td>4 days 23:17:00.000000000</td>\n",
       "      <td>4.970139</td>\n",
       "    </tr>\n",
       "    <tr>\n",
       "      <th>4</th>\n",
       "      <td>16 years</td>\n",
       "      <td>A134067</td>\n",
       "      <td>1997-10-16 00:00:00</td>\n",
       "      <td>NaN</td>\n",
       "      <td>Return to Owner</td>\n",
       "      <td>Neutered Male</td>\n",
       "      <td>5840</td>\n",
       "      <td>16.0</td>\n",
       "      <td>(15.0, 17.5]</td>\n",
       "      <td>2013-11-16 11:54:00</td>\n",
       "      <td>...</td>\n",
       "      <td>(15.0, 17.5]</td>\n",
       "      <td>2013-11-16 09:02:00</td>\n",
       "      <td>11</td>\n",
       "      <td>2013</td>\n",
       "      <td>2013-11</td>\n",
       "      <td>Saturday</td>\n",
       "      <td>9</td>\n",
       "      <td>1.0</td>\n",
       "      <td>0 days 02:52:00.000000000</td>\n",
       "      <td>0.119444</td>\n",
       "    </tr>\n",
       "  </tbody>\n",
       "</table>\n",
       "<p>5 rows × 41 columns</p>\n",
       "</div>"
      ],
      "text/plain": [
       "  age_upon_outcome animal_id_outcome        date_of_birth outcome_subtype  \\\n",
       "0         10 years           A006100  2007-07-09 00:00:00             NaN   \n",
       "1          7 years           A006100  2007-07-09 00:00:00             NaN   \n",
       "2          6 years           A006100  2007-07-09 00:00:00             NaN   \n",
       "3         10 years           A047759  2004-04-02 00:00:00         Partner   \n",
       "4         16 years           A134067  1997-10-16 00:00:00             NaN   \n",
       "\n",
       "      outcome_type sex_upon_outcome  age_upon_outcome_(days)  \\\n",
       "0  Return to Owner    Neutered Male                     3650   \n",
       "1  Return to Owner    Neutered Male                     2555   \n",
       "2  Return to Owner    Neutered Male                     2190   \n",
       "3         Transfer    Neutered Male                     3650   \n",
       "4  Return to Owner    Neutered Male                     5840   \n",
       "\n",
       "   age_upon_outcome_(years) age_upon_outcome_age_group     outcome_datetime  \\\n",
       "0                      10.0                (7.5, 10.0]  2017-12-07 14:07:00   \n",
       "1                       7.0                 (5.0, 7.5]  2014-12-20 16:35:00   \n",
       "2                       6.0                 (5.0, 7.5]  2014-03-08 17:10:00   \n",
       "3                      10.0                (7.5, 10.0]  2014-04-07 15:12:00   \n",
       "4                      16.0               (15.0, 17.5]  2013-11-16 11:54:00   \n",
       "\n",
       "   ...  age_upon_intake_age_group      intake_datetime intake_month  \\\n",
       "0  ...                (7.5, 10.0]  2017-12-07 00:00:00           12   \n",
       "1  ...                 (5.0, 7.5]  2014-12-19 10:21:00           12   \n",
       "2  ...                 (5.0, 7.5]  2014-03-07 14:26:00            3   \n",
       "3  ...                (7.5, 10.0]  2014-04-02 15:55:00            4   \n",
       "4  ...               (15.0, 17.5]  2013-11-16 09:02:00           11   \n",
       "\n",
       "  intake_year  intake_monthyear  intake_weekday  intake_hour  intake_number  \\\n",
       "0        2017           2017-12        Thursday           14            1.0   \n",
       "1        2014           2014-12          Friday           10            2.0   \n",
       "2        2014           2014-03          Friday           14            3.0   \n",
       "3        2014           2014-04       Wednesday           15            1.0   \n",
       "4        2013           2013-11        Saturday            9            1.0   \n",
       "\n",
       "             time_in_shelter time_in_shelter_days  \n",
       "0  0 days 14:07:00.000000000             0.588194  \n",
       "1  1 days 06:14:00.000000000             1.259722  \n",
       "2  1 days 02:44:00.000000000             1.113889  \n",
       "3  4 days 23:17:00.000000000             4.970139  \n",
       "4  0 days 02:52:00.000000000             0.119444  \n",
       "\n",
       "[5 rows x 41 columns]"
      ]
     },
     "execution_count": 15,
     "metadata": {},
     "output_type": "execute_result"
    }
   ],
   "source": [
    "intakes_outcomes.head()"
   ]
  },
  {
   "cell_type": "code",
   "execution_count": 16,
   "id": "4fcd5085",
   "metadata": {},
   "outputs": [
    {
     "data": {
      "text/plain": [
       "(79672, 41)"
      ]
     },
     "execution_count": 16,
     "metadata": {},
     "output_type": "execute_result"
    }
   ],
   "source": [
    "intakes_outcomes.shape"
   ]
  },
  {
   "cell_type": "code",
   "execution_count": 17,
   "id": "6278ace3",
   "metadata": {},
   "outputs": [
    {
     "data": {
      "text/plain": [
       "age_upon_outcome               object\n",
       "animal_id_outcome              object\n",
       "date_of_birth                  object\n",
       "outcome_subtype                object\n",
       "outcome_type                   object\n",
       "sex_upon_outcome               object\n",
       "age_upon_outcome_(days)         int64\n",
       "age_upon_outcome_(years)      float64\n",
       "age_upon_outcome_age_group     object\n",
       "outcome_datetime               object\n",
       "outcome_month                   int64\n",
       "outcome_year                    int64\n",
       "outcome_monthyear              object\n",
       "outcome_weekday                object\n",
       "outcome_hour                    int64\n",
       "outcome_number                float64\n",
       "dob_year                        int64\n",
       "dob_month                       int64\n",
       "dob_monthyear                  object\n",
       "age_upon_intake                object\n",
       "animal_id_intake               object\n",
       "animal_type                    object\n",
       "breed                          object\n",
       "color                          object\n",
       "found_location                 object\n",
       "intake_condition               object\n",
       "intake_type                    object\n",
       "sex_upon_intake                object\n",
       "count                           int64\n",
       "age_upon_intake_(days)          int64\n",
       "age_upon_intake_(years)       float64\n",
       "age_upon_intake_age_group      object\n",
       "intake_datetime                object\n",
       "intake_month                    int64\n",
       "intake_year                     int64\n",
       "intake_monthyear               object\n",
       "intake_weekday                 object\n",
       "intake_hour                     int64\n",
       "intake_number                 float64\n",
       "time_in_shelter                object\n",
       "time_in_shelter_days          float64\n",
       "dtype: object"
      ]
     },
     "execution_count": 17,
     "metadata": {},
     "output_type": "execute_result"
    }
   ],
   "source": [
    "intakes_outcomes.dtypes"
   ]
  },
  {
   "cell_type": "code",
   "execution_count": 18,
   "id": "b87aae17",
   "metadata": {},
   "outputs": [
    {
     "data": {
      "text/plain": [
       "age_upon_outcome                      object\n",
       "animal_id_outcome                     object\n",
       "date_of_birth                 datetime64[ns]\n",
       "outcome_subtype                       object\n",
       "outcome_type                          object\n",
       "sex_upon_outcome                      object\n",
       "age_upon_outcome_(days)                int64\n",
       "age_upon_outcome_(years)             float64\n",
       "age_upon_outcome_age_group            object\n",
       "outcome_datetime              datetime64[ns]\n",
       "outcome_month                          int64\n",
       "outcome_year                           int64\n",
       "outcome_monthyear                     object\n",
       "outcome_weekday                       object\n",
       "outcome_hour                           int64\n",
       "outcome_number                       float64\n",
       "dob_year                               int64\n",
       "dob_month                              int64\n",
       "dob_monthyear                         object\n",
       "age_upon_intake                       object\n",
       "animal_id_intake                      object\n",
       "animal_type                           object\n",
       "breed                                 object\n",
       "color                                 object\n",
       "found_location                        object\n",
       "intake_condition                      object\n",
       "intake_type                           object\n",
       "sex_upon_intake                       object\n",
       "count                                  int64\n",
       "age_upon_intake_(days)                 int64\n",
       "age_upon_intake_(years)              float64\n",
       "age_upon_intake_age_group             object\n",
       "intake_datetime               datetime64[ns]\n",
       "intake_month                           int64\n",
       "intake_year                            int64\n",
       "intake_monthyear                      object\n",
       "intake_weekday                        object\n",
       "intake_hour                            int64\n",
       "intake_number                        float64\n",
       "time_in_shelter                       object\n",
       "time_in_shelter_days                 float64\n",
       "dtype: object"
      ]
     },
     "execution_count": 18,
     "metadata": {},
     "output_type": "execute_result"
    }
   ],
   "source": [
    "intakes_outcomes['date_of_birth'] = pd.to_datetime(intakes_outcomes['date_of_birth'])\n",
    "intakes_outcomes['outcome_datetime'] = pd.to_datetime(intakes_outcomes['outcome_datetime'])\n",
    "intakes_outcomes['intake_datetime'] = pd.to_datetime(intakes_outcomes['intake_datetime'])\n",
    "intakes_outcomes.dtypes"
   ]
  },
  {
   "cell_type": "code",
   "execution_count": 19,
   "id": "df785d1b",
   "metadata": {},
   "outputs": [
    {
     "data": {
      "text/plain": [
       "age_upon_outcome                  0\n",
       "animal_id_outcome                 0\n",
       "date_of_birth                     0\n",
       "outcome_subtype               43324\n",
       "outcome_type                     10\n",
       "sex_upon_outcome                  1\n",
       "age_upon_outcome_(days)           0\n",
       "age_upon_outcome_(years)          0\n",
       "age_upon_outcome_age_group        0\n",
       "outcome_datetime                  0\n",
       "outcome_month                     0\n",
       "outcome_year                      0\n",
       "outcome_monthyear                 0\n",
       "outcome_weekday                   0\n",
       "outcome_hour                      0\n",
       "outcome_number                    0\n",
       "dob_year                          0\n",
       "dob_month                         0\n",
       "dob_monthyear                     0\n",
       "age_upon_intake                   0\n",
       "animal_id_intake                  0\n",
       "animal_type                       0\n",
       "breed                             0\n",
       "color                             0\n",
       "found_location                    0\n",
       "intake_condition                  0\n",
       "intake_type                       0\n",
       "sex_upon_intake                   1\n",
       "count                             0\n",
       "age_upon_intake_(days)            0\n",
       "age_upon_intake_(years)           0\n",
       "age_upon_intake_age_group         0\n",
       "intake_datetime                   0\n",
       "intake_month                      0\n",
       "intake_year                       0\n",
       "intake_monthyear                  0\n",
       "intake_weekday                    0\n",
       "intake_hour                       0\n",
       "intake_number                     0\n",
       "time_in_shelter                   0\n",
       "time_in_shelter_days              0\n",
       "dtype: int64"
      ]
     },
     "execution_count": 19,
     "metadata": {},
     "output_type": "execute_result"
    }
   ],
   "source": [
    "intakes_outcomes.isna().sum()"
   ]
  },
  {
   "cell_type": "code",
   "execution_count": 20,
   "id": "86c2644c",
   "metadata": {},
   "outputs": [
    {
     "data": {
      "text/plain": [
       "NaN                    43324\n",
       "Partner                19840\n",
       "Foster                  5490\n",
       "SCRP                    3205\n",
       "Suffering               2549\n",
       "Rabies Risk             2539\n",
       "Snr                      752\n",
       "Aggressive               497\n",
       "In Kennel                351\n",
       "Offsite                  350\n",
       "Medical                  265\n",
       "In Foster                177\n",
       "Behavior                 133\n",
       "At Vet                    71\n",
       "Enroute                   49\n",
       "Underage                  28\n",
       "Court/Investigation       23\n",
       "In Surgery                17\n",
       "Possible Theft             9\n",
       "Barn                       3\n",
       "Name: outcome_subtype, dtype: int64"
      ]
     },
     "execution_count": 20,
     "metadata": {},
     "output_type": "execute_result"
    }
   ],
   "source": [
    "intakes_outcomes['outcome_subtype'].value_counts(dropna=False)"
   ]
  },
  {
   "cell_type": "code",
   "execution_count": 21,
   "id": "e6d2b594",
   "metadata": {},
   "outputs": [],
   "source": [
    "intakes_outcomes['outcome_subtype'] = intakes_outcomes['outcome_subtype'].fillna('Other')"
   ]
  },
  {
   "cell_type": "code",
   "execution_count": 22,
   "id": "dcf7de16",
   "metadata": {},
   "outputs": [
    {
     "data": {
      "text/plain": [
       "Adoption           33594\n",
       "Transfer           23799\n",
       "Return to Owner    14791\n",
       "Euthanasia          6244\n",
       "Died                 690\n",
       "Disposal             304\n",
       "Rto-Adopt            179\n",
       "Missing               46\n",
       "Relocate              15\n",
       "NaN                   10\n",
       "Name: outcome_type, dtype: int64"
      ]
     },
     "execution_count": 22,
     "metadata": {},
     "output_type": "execute_result"
    }
   ],
   "source": [
    "# filling Nan with mode\n",
    "intakes_outcomes['outcome_type'].value_counts(dropna=False)"
   ]
  },
  {
   "cell_type": "code",
   "execution_count": 23,
   "id": "777ad4e7",
   "metadata": {},
   "outputs": [],
   "source": [
    "intakes_outcomes['outcome_type'] = intakes_outcomes['outcome_type'].fillna('Adoption')"
   ]
  },
  {
   "cell_type": "code",
   "execution_count": 24,
   "id": "9df4422a",
   "metadata": {},
   "outputs": [
    {
     "data": {
      "text/plain": [
       "Neutered Male    28293\n",
       "Spayed Female    25549\n",
       "Intact Male       9732\n",
       "Intact Female     9308\n",
       "Unknown           6789\n",
       "NaN                  1\n",
       "Name: sex_upon_outcome, dtype: int64"
      ]
     },
     "execution_count": 24,
     "metadata": {},
     "output_type": "execute_result"
    }
   ],
   "source": [
    "intakes_outcomes['sex_upon_outcome'].value_counts(dropna=False)"
   ]
  },
  {
   "cell_type": "code",
   "execution_count": 25,
   "id": "7438bad7",
   "metadata": {},
   "outputs": [],
   "source": [
    "intakes_outcomes['sex_upon_outcome'] = intakes_outcomes['sex_upon_outcome'].fillna('Unknown')"
   ]
  },
  {
   "cell_type": "code",
   "execution_count": 26,
   "id": "50849298",
   "metadata": {},
   "outputs": [
    {
     "data": {
      "text/plain": [
       "Intact Male      25317\n",
       "Intact Female    23704\n",
       "Neutered Male    12708\n",
       "Spayed Female    11153\n",
       "Unknown           6789\n",
       "NaN                  1\n",
       "Name: sex_upon_intake, dtype: int64"
      ]
     },
     "execution_count": 26,
     "metadata": {},
     "output_type": "execute_result"
    }
   ],
   "source": [
    "intakes_outcomes['sex_upon_intake'].value_counts(dropna=False)"
   ]
  },
  {
   "cell_type": "code",
   "execution_count": 27,
   "id": "7a2dbdc4",
   "metadata": {},
   "outputs": [],
   "source": [
    "intakes_outcomes['sex_upon_intake'] = intakes_outcomes['sex_upon_intake'].fillna('Unknown')"
   ]
  },
  {
   "cell_type": "code",
   "execution_count": 28,
   "id": "6f488407",
   "metadata": {
    "scrolled": true
   },
   "outputs": [
    {
     "data": {
      "text/plain": [
       "age_upon_outcome              0\n",
       "animal_id_outcome             0\n",
       "date_of_birth                 0\n",
       "outcome_subtype               0\n",
       "outcome_type                  0\n",
       "sex_upon_outcome              0\n",
       "age_upon_outcome_(days)       0\n",
       "age_upon_outcome_(years)      0\n",
       "age_upon_outcome_age_group    0\n",
       "outcome_datetime              0\n",
       "outcome_month                 0\n",
       "outcome_year                  0\n",
       "outcome_monthyear             0\n",
       "outcome_weekday               0\n",
       "outcome_hour                  0\n",
       "outcome_number                0\n",
       "dob_year                      0\n",
       "dob_month                     0\n",
       "dob_monthyear                 0\n",
       "age_upon_intake               0\n",
       "animal_id_intake              0\n",
       "animal_type                   0\n",
       "breed                         0\n",
       "color                         0\n",
       "found_location                0\n",
       "intake_condition              0\n",
       "intake_type                   0\n",
       "sex_upon_intake               0\n",
       "count                         0\n",
       "age_upon_intake_(days)        0\n",
       "age_upon_intake_(years)       0\n",
       "age_upon_intake_age_group     0\n",
       "intake_datetime               0\n",
       "intake_month                  0\n",
       "intake_year                   0\n",
       "intake_monthyear              0\n",
       "intake_weekday                0\n",
       "intake_hour                   0\n",
       "intake_number                 0\n",
       "time_in_shelter               0\n",
       "time_in_shelter_days          0\n",
       "dtype: int64"
      ]
     },
     "execution_count": 28,
     "metadata": {},
     "output_type": "execute_result"
    }
   ],
   "source": [
    "intakes_outcomes.isna().sum()"
   ]
  },
  {
   "cell_type": "markdown",
   "id": "140fb60e",
   "metadata": {},
   "source": [
    "# Exploring and cleaning outcomes file"
   ]
  },
  {
   "cell_type": "code",
   "execution_count": 29,
   "id": "c585d110",
   "metadata": {},
   "outputs": [
    {
     "data": {
      "text/html": [
       "<div>\n",
       "<style scoped>\n",
       "    .dataframe tbody tr th:only-of-type {\n",
       "        vertical-align: middle;\n",
       "    }\n",
       "\n",
       "    .dataframe tbody tr th {\n",
       "        vertical-align: top;\n",
       "    }\n",
       "\n",
       "    .dataframe thead th {\n",
       "        text-align: right;\n",
       "    }\n",
       "</style>\n",
       "<table border=\"1\" class=\"dataframe\">\n",
       "  <thead>\n",
       "    <tr style=\"text-align: right;\">\n",
       "      <th></th>\n",
       "      <th>age_upon_outcome</th>\n",
       "      <th>animal_id</th>\n",
       "      <th>animal_type</th>\n",
       "      <th>breed</th>\n",
       "      <th>color</th>\n",
       "      <th>date_of_birth</th>\n",
       "      <th>datetime</th>\n",
       "      <th>monthyear</th>\n",
       "      <th>name</th>\n",
       "      <th>outcome_subtype</th>\n",
       "      <th>outcome_type</th>\n",
       "      <th>sex_upon_outcome</th>\n",
       "    </tr>\n",
       "  </thead>\n",
       "  <tbody>\n",
       "    <tr>\n",
       "      <th>0</th>\n",
       "      <td>2 weeks</td>\n",
       "      <td>A684346</td>\n",
       "      <td>Cat</td>\n",
       "      <td>Domestic Shorthair Mix</td>\n",
       "      <td>Orange Tabby</td>\n",
       "      <td>2014-07-07T00:00:00</td>\n",
       "      <td>2014-07-22T16:04:00</td>\n",
       "      <td>2014-07-22T16:04:00</td>\n",
       "      <td>NaN</td>\n",
       "      <td>Partner</td>\n",
       "      <td>Transfer</td>\n",
       "      <td>Intact Male</td>\n",
       "    </tr>\n",
       "    <tr>\n",
       "      <th>1</th>\n",
       "      <td>1 year</td>\n",
       "      <td>A666430</td>\n",
       "      <td>Dog</td>\n",
       "      <td>Beagle Mix</td>\n",
       "      <td>White/Brown</td>\n",
       "      <td>2012-11-06T00:00:00</td>\n",
       "      <td>2013-11-07T11:47:00</td>\n",
       "      <td>2013-11-07T11:47:00</td>\n",
       "      <td>Lucy</td>\n",
       "      <td>Partner</td>\n",
       "      <td>Transfer</td>\n",
       "      <td>Spayed Female</td>\n",
       "    </tr>\n",
       "    <tr>\n",
       "      <th>2</th>\n",
       "      <td>1 year</td>\n",
       "      <td>A675708</td>\n",
       "      <td>Dog</td>\n",
       "      <td>Pit Bull</td>\n",
       "      <td>Blue/White</td>\n",
       "      <td>2013-03-31T00:00:00</td>\n",
       "      <td>2014-06-03T14:20:00</td>\n",
       "      <td>2014-06-03T14:20:00</td>\n",
       "      <td>*Johnny</td>\n",
       "      <td>NaN</td>\n",
       "      <td>Adoption</td>\n",
       "      <td>Neutered Male</td>\n",
       "    </tr>\n",
       "    <tr>\n",
       "      <th>3</th>\n",
       "      <td>9 years</td>\n",
       "      <td>A680386</td>\n",
       "      <td>Dog</td>\n",
       "      <td>Miniature Schnauzer Mix</td>\n",
       "      <td>White</td>\n",
       "      <td>2005-06-02T00:00:00</td>\n",
       "      <td>2014-06-15T15:50:00</td>\n",
       "      <td>2014-06-15T15:50:00</td>\n",
       "      <td>Monday</td>\n",
       "      <td>Partner</td>\n",
       "      <td>Transfer</td>\n",
       "      <td>Neutered Male</td>\n",
       "    </tr>\n",
       "    <tr>\n",
       "      <th>4</th>\n",
       "      <td>5 months</td>\n",
       "      <td>A683115</td>\n",
       "      <td>Other</td>\n",
       "      <td>Bat Mix</td>\n",
       "      <td>Brown</td>\n",
       "      <td>2014-01-07T00:00:00</td>\n",
       "      <td>2014-07-07T14:04:00</td>\n",
       "      <td>2014-07-07T14:04:00</td>\n",
       "      <td>NaN</td>\n",
       "      <td>Rabies Risk</td>\n",
       "      <td>Euthanasia</td>\n",
       "      <td>Unknown</td>\n",
       "    </tr>\n",
       "  </tbody>\n",
       "</table>\n",
       "</div>"
      ],
      "text/plain": [
       "  age_upon_outcome animal_id animal_type                    breed  \\\n",
       "0          2 weeks   A684346         Cat   Domestic Shorthair Mix   \n",
       "1           1 year   A666430         Dog               Beagle Mix   \n",
       "2           1 year   A675708         Dog                 Pit Bull   \n",
       "3          9 years   A680386         Dog  Miniature Schnauzer Mix   \n",
       "4         5 months   A683115       Other                  Bat Mix   \n",
       "\n",
       "          color        date_of_birth             datetime  \\\n",
       "0  Orange Tabby  2014-07-07T00:00:00  2014-07-22T16:04:00   \n",
       "1   White/Brown  2012-11-06T00:00:00  2013-11-07T11:47:00   \n",
       "2    Blue/White  2013-03-31T00:00:00  2014-06-03T14:20:00   \n",
       "3         White  2005-06-02T00:00:00  2014-06-15T15:50:00   \n",
       "4         Brown  2014-01-07T00:00:00  2014-07-07T14:04:00   \n",
       "\n",
       "             monthyear     name outcome_subtype outcome_type sex_upon_outcome  \n",
       "0  2014-07-22T16:04:00      NaN         Partner     Transfer      Intact Male  \n",
       "1  2013-11-07T11:47:00     Lucy         Partner     Transfer    Spayed Female  \n",
       "2  2014-06-03T14:20:00  *Johnny             NaN     Adoption    Neutered Male  \n",
       "3  2014-06-15T15:50:00   Monday         Partner     Transfer    Neutered Male  \n",
       "4  2014-07-07T14:04:00      NaN     Rabies Risk   Euthanasia          Unknown  "
      ]
     },
     "execution_count": 29,
     "metadata": {},
     "output_type": "execute_result"
    }
   ],
   "source": [
    "outcomes.head()"
   ]
  },
  {
   "cell_type": "code",
   "execution_count": 30,
   "id": "97d42125",
   "metadata": {},
   "outputs": [
    {
     "data": {
      "text/plain": [
       "(80681, 12)"
      ]
     },
     "execution_count": 30,
     "metadata": {},
     "output_type": "execute_result"
    }
   ],
   "source": [
    "outcomes.shape"
   ]
  },
  {
   "cell_type": "code",
   "execution_count": 31,
   "id": "4401216d",
   "metadata": {},
   "outputs": [
    {
     "data": {
      "text/plain": [
       "age_upon_outcome    object\n",
       "animal_id           object\n",
       "animal_type         object\n",
       "breed               object\n",
       "color               object\n",
       "date_of_birth       object\n",
       "datetime            object\n",
       "monthyear           object\n",
       "name                object\n",
       "outcome_subtype     object\n",
       "outcome_type        object\n",
       "sex_upon_outcome    object\n",
       "dtype: object"
      ]
     },
     "execution_count": 31,
     "metadata": {},
     "output_type": "execute_result"
    }
   ],
   "source": [
    "outcomes.dtypes"
   ]
  },
  {
   "cell_type": "code",
   "execution_count": 32,
   "id": "415577cd",
   "metadata": {},
   "outputs": [
    {
     "data": {
      "text/plain": [
       "age_upon_outcome            object\n",
       "animal_id                   object\n",
       "animal_type                 object\n",
       "breed                       object\n",
       "color                       object\n",
       "date_of_birth       datetime64[ns]\n",
       "datetime            datetime64[ns]\n",
       "monthyear           datetime64[ns]\n",
       "name                        object\n",
       "outcome_subtype             object\n",
       "outcome_type                object\n",
       "sex_upon_outcome            object\n",
       "dtype: object"
      ]
     },
     "execution_count": 32,
     "metadata": {},
     "output_type": "execute_result"
    }
   ],
   "source": [
    "outcomes['date_of_birth'] = pd.to_datetime(outcomes['date_of_birth'])\n",
    "outcomes['datetime'] = pd.to_datetime(outcomes['datetime'])\n",
    "outcomes['monthyear'] = pd.to_datetime(outcomes['monthyear'])\n",
    "outcomes.dtypes"
   ]
  },
  {
   "cell_type": "code",
   "execution_count": 33,
   "id": "a5164411",
   "metadata": {},
   "outputs": [
    {
     "data": {
      "text/plain": [
       "age_upon_outcome        8\n",
       "animal_id               0\n",
       "animal_type             0\n",
       "breed                   0\n",
       "color                   0\n",
       "date_of_birth           0\n",
       "datetime                0\n",
       "monthyear               0\n",
       "name                24565\n",
       "outcome_subtype     43788\n",
       "outcome_type           14\n",
       "sex_upon_outcome        2\n",
       "dtype: int64"
      ]
     },
     "execution_count": 33,
     "metadata": {},
     "output_type": "execute_result"
    }
   ],
   "source": [
    "outcomes.isna().sum()"
   ]
  },
  {
   "cell_type": "code",
   "execution_count": 34,
   "id": "2cad401a",
   "metadata": {},
   "outputs": [
    {
     "data": {
      "text/plain": [
       "1 year       14911\n",
       "2 years      11683\n",
       "2 months      9377\n",
       "3 years       5326\n",
       "3 months      3481\n",
       "1 month       3424\n",
       "4 years       3092\n",
       "5 years       2789\n",
       "4 months      2470\n",
       "5 months      1995\n",
       "6 months      1940\n",
       "6 years       1878\n",
       "8 years       1608\n",
       "7 years       1588\n",
       "3 weeks       1474\n",
       "2 weeks       1348\n",
       "10 months     1241\n",
       "8 months      1221\n",
       "4 weeks       1206\n",
       "10 years      1205\n",
       "7 months      1001\n",
       "9 years        855\n",
       "9 months       718\n",
       "12 years       619\n",
       "1 weeks        528\n",
       "11 months      520\n",
       "11 years       447\n",
       "1 week         429\n",
       "13 years       403\n",
       "14 years       260\n",
       "3 days         239\n",
       "2 days         226\n",
       "15 years       217\n",
       "1 day          157\n",
       "6 days         153\n",
       "4 days         140\n",
       "5 days         116\n",
       "16 years       107\n",
       "0 years         95\n",
       "5 weeks         68\n",
       "17 years        59\n",
       "18 years        28\n",
       "20 years        13\n",
       "19 years        13\n",
       "NaN              8\n",
       "22 years         4\n",
       "25 years         1\n",
       "Name: age_upon_outcome, dtype: int64"
      ]
     },
     "execution_count": 34,
     "metadata": {},
     "output_type": "execute_result"
    }
   ],
   "source": [
    "#filling NaN with mode\n",
    "outcomes['age_upon_outcome'].value_counts(dropna=False)"
   ]
  },
  {
   "cell_type": "code",
   "execution_count": 35,
   "id": "8604b825",
   "metadata": {},
   "outputs": [],
   "source": [
    "outcomes['age_upon_outcome'] = outcomes['age_upon_outcome'].fillna('1 year')"
   ]
  },
  {
   "cell_type": "code",
   "execution_count": 36,
   "id": "12dd8126",
   "metadata": {},
   "outputs": [],
   "source": [
    "outcomes['name'] = outcomes['name'].fillna('unknown')"
   ]
  },
  {
   "cell_type": "code",
   "execution_count": 37,
   "id": "41affb9f",
   "metadata": {},
   "outputs": [
    {
     "data": {
      "text/plain": [
       "NaN                    43788\n",
       "Partner                20082\n",
       "Foster                  5714\n",
       "SCRP                    3211\n",
       "Suffering               2563\n",
       "Rabies Risk             2546\n",
       "Snr                      755\n",
       "Aggressive               508\n",
       "Offsite                  367\n",
       "In Kennel                354\n",
       "Medical                  268\n",
       "In Foster                183\n",
       "Behavior                 142\n",
       "At Vet                    71\n",
       "Enroute                   49\n",
       "Underage                  28\n",
       "Court/Investigation       23\n",
       "In Surgery                17\n",
       "Possible Theft             9\n",
       "Barn                       3\n",
       "Name: outcome_subtype, dtype: int64"
      ]
     },
     "execution_count": 37,
     "metadata": {},
     "output_type": "execute_result"
    }
   ],
   "source": [
    "outcomes['outcome_subtype'].value_counts(dropna=False)"
   ]
  },
  {
   "cell_type": "code",
   "execution_count": 38,
   "id": "fa3c5ba0",
   "metadata": {},
   "outputs": [],
   "source": [
    "outcomes['outcome_subtype'] = outcomes['outcome_subtype'].fillna('other')"
   ]
  },
  {
   "cell_type": "code",
   "execution_count": 39,
   "id": "9e2c8f7d",
   "metadata": {},
   "outputs": [
    {
     "data": {
      "text/plain": [
       "Adoption           34232\n",
       "Transfer           24050\n",
       "Return to Owner    14851\n",
       "Euthanasia          6289\n",
       "Died                 699\n",
       "Disposal             304\n",
       "Rto-Adopt            179\n",
       "Missing               47\n",
       "Relocate              16\n",
       "NaN                   14\n",
       "Name: outcome_type, dtype: int64"
      ]
     },
     "execution_count": 39,
     "metadata": {},
     "output_type": "execute_result"
    }
   ],
   "source": [
    "#filling Nan with mode\n",
    "outcomes['outcome_type'].value_counts(dropna=False)"
   ]
  },
  {
   "cell_type": "code",
   "execution_count": 40,
   "id": "22bbc9e8",
   "metadata": {},
   "outputs": [],
   "source": [
    "outcomes['outcome_type'] = outcomes['outcome_type'].fillna('Adoption')"
   ]
  },
  {
   "cell_type": "code",
   "execution_count": 41,
   "id": "63fd17a8",
   "metadata": {},
   "outputs": [
    {
     "data": {
      "text/plain": [
       "Neutered Male    28702\n",
       "Spayed Female    26001\n",
       "Intact Male       9792\n",
       "Intact Female     9370\n",
       "Unknown           6814\n",
       "NaN                  2\n",
       "Name: sex_upon_outcome, dtype: int64"
      ]
     },
     "execution_count": 41,
     "metadata": {},
     "output_type": "execute_result"
    }
   ],
   "source": [
    "outcomes['sex_upon_outcome'].value_counts(dropna=False)"
   ]
  },
  {
   "cell_type": "code",
   "execution_count": 42,
   "id": "90a86954",
   "metadata": {},
   "outputs": [],
   "source": [
    "outcomes['sex_upon_outcome'] = outcomes['sex_upon_outcome'].fillna('Unkown')"
   ]
  },
  {
   "cell_type": "code",
   "execution_count": 43,
   "id": "7512e32f",
   "metadata": {},
   "outputs": [
    {
     "data": {
      "text/plain": [
       "age_upon_outcome    0\n",
       "animal_id           0\n",
       "animal_type         0\n",
       "breed               0\n",
       "color               0\n",
       "date_of_birth       0\n",
       "datetime            0\n",
       "monthyear           0\n",
       "name                0\n",
       "outcome_subtype     0\n",
       "outcome_type        0\n",
       "sex_upon_outcome    0\n",
       "dtype: int64"
      ]
     },
     "execution_count": 43,
     "metadata": {},
     "output_type": "execute_result"
    }
   ],
   "source": [
    "outcomes.isna().sum()"
   ]
  },
  {
   "cell_type": "code",
   "execution_count": null,
   "id": "178d04cc",
   "metadata": {},
   "outputs": [],
   "source": []
  },
  {
   "cell_type": "markdown",
   "id": "09ca6933",
   "metadata": {},
   "source": [
    "# Analysis"
   ]
  },
  {
   "cell_type": "markdown",
   "id": "9a1afb41",
   "metadata": {},
   "source": [
    "### Is there an area where more pets are found?"
   ]
  },
  {
   "cell_type": "code",
   "execution_count": 44,
   "id": "47d266de",
   "metadata": {},
   "outputs": [
    {
     "data": {
      "text/plain": [
       "Austin (TX)                          14443\n",
       "Outside Jurisdiction                   948\n",
       "Travis (TX)                            921\n",
       "7201 Levander Loop in Austin (TX)      517\n",
       "Del Valle (TX)                         411\n",
       "Name: found_location, dtype: int64"
      ]
     },
     "execution_count": 44,
     "metadata": {},
     "output_type": "execute_result"
    }
   ],
   "source": [
    "most_found = intakes['found_location'].value_counts()\n",
    "most_found[:5]"
   ]
  },
  {
   "cell_type": "markdown",
   "id": "2ec17169",
   "metadata": {},
   "source": [
    "To get the reuslts I used the value_counts function and used slicing to view the top 5 results. "
   ]
  },
  {
   "cell_type": "markdown",
   "id": "6ac36d52",
   "metadata": {},
   "source": [
    "### What is the average number of pets found in a month in the year 2015? Are there months where there is a higher number of animals found?” "
   ]
  },
  {
   "cell_type": "code",
   "execution_count": 45,
   "id": "3eed5ba2",
   "metadata": {},
   "outputs": [],
   "source": [
    "avg_intake_year = intakes_outcomes[intakes_outcomes['intake_year']== 2015]\n",
    "avg_intake = len(avg_intake_year)/12"
   ]
  },
  {
   "cell_type": "code",
   "execution_count": 46,
   "id": "bd01af31",
   "metadata": {},
   "outputs": [
    {
     "name": "stdout",
     "output_type": "stream",
     "text": [
      "the monthly intake average is 1558.25 animals\n"
     ]
    }
   ],
   "source": [
    "print(f'the monthly intake average is {avg_intake} animals') "
   ]
  },
  {
   "cell_type": "markdown",
   "id": "f0ccbbf5",
   "metadata": {},
   "source": [
    "to get the monthly average I first filtered the df to get only the data for 2015. I then used the len function as each entry is for one intake and divided it by 12"
   ]
  },
  {
   "cell_type": "code",
   "execution_count": 47,
   "id": "ca473218",
   "metadata": {},
   "outputs": [],
   "source": [
    "months_2015 = avg_intake_year['intake_month'].value_counts()\n",
    "above_avg = months_2015[months_2015 > avg_intake]"
   ]
  },
  {
   "cell_type": "code",
   "execution_count": 48,
   "id": "cf05b66e",
   "metadata": {},
   "outputs": [
    {
     "data": {
      "text/plain": [
       "6     2188\n",
       "5     2092\n",
       "10    1738\n",
       "8     1717\n",
       "7     1634\n",
       "9     1590\n",
       "Name: intake_month, dtype: int64"
      ]
     },
     "execution_count": 48,
     "metadata": {},
     "output_type": "execute_result"
    }
   ],
   "source": [
    "above_avg"
   ]
  },
  {
   "cell_type": "markdown",
   "id": "f15a2eb8",
   "metadata": {},
   "source": [
    "to get the months above average I used value_counts for the 'intake_month' column and then created a new variable for only the months that have a higher count than the average"
   ]
  },
  {
   "cell_type": "markdown",
   "id": "278793af",
   "metadata": {},
   "source": [
    "### What is the ratio of incoming pets vs. adopted pets?"
   ]
  },
  {
   "cell_type": "code",
   "execution_count": 49,
   "id": "f98a951c",
   "metadata": {},
   "outputs": [],
   "source": [
    "num_incoming = intakes['animal_id'].count()\n",
    "num_adopted = len(outcomes[outcomes['outcome_type'] == 'Adoption'])\n",
    "ratio = num_adopted / num_incoming"
   ]
  },
  {
   "cell_type": "code",
   "execution_count": 50,
   "id": "230e841f",
   "metadata": {},
   "outputs": [
    {
     "name": "stdout",
     "output_type": "stream",
     "text": [
      "total number of intakes: 80187\n",
      "total number of adopted animals: 34246\n",
      "ratio of incoming vs adopted pets: 0.43\n"
     ]
    }
   ],
   "source": [
    "print(f'total number of intakes: {num_incoming}')\n",
    "print(f'total number of adopted animals: {num_adopted}')\n",
    "print(f'ratio of incoming vs adopted pets: {ratio.round(2)}')"
   ]
  },
  {
   "cell_type": "markdown",
   "id": "a8fe8e1c",
   "metadata": {},
   "source": [
    "to get the results I first created a variable for the number of intakes using the count() function. I created another variable for the number of adopted pets by filtering the 'outcome_type' column for 'Adoption' and then used the len() function. Lastly I divided both variables to get the ratio"
   ]
  },
  {
   "cell_type": "markdown",
   "id": "34b3333a",
   "metadata": {},
   "source": [
    "### What is the distribution of the types of animals in the shelter?"
   ]
  },
  {
   "cell_type": "code",
   "execution_count": 51,
   "id": "8bb5aeb6",
   "metadata": {},
   "outputs": [
    {
     "data": {
      "text/plain": [
       "Dog          45743\n",
       "Cat          29659\n",
       "Other         4434\n",
       "Bird           342\n",
       "Livestock        9\n",
       "Name: animal_type, dtype: int64"
      ]
     },
     "execution_count": 51,
     "metadata": {},
     "output_type": "execute_result"
    }
   ],
   "source": [
    "intakes['animal_type'].value_counts()"
   ]
  },
  {
   "cell_type": "markdown",
   "id": "280cf697",
   "metadata": {},
   "source": [
    "to get the results I used the value_counts() function"
   ]
  },
  {
   "cell_type": "markdown",
   "id": "b57f403b",
   "metadata": {},
   "source": [
    "### What are the adoption rates for specific breeds?"
   ]
  },
  {
   "cell_type": "markdown",
   "id": "6c9de84f",
   "metadata": {},
   "source": [
    "Top 5 dog breeds and adoption rate:"
   ]
  },
  {
   "cell_type": "code",
   "execution_count": 52,
   "id": "249ac452",
   "metadata": {},
   "outputs": [
    {
     "data": {
      "text/plain": [
       "Pit Bull Mix                 6382\n",
       "Chihuahua Shorthair Mix      4860\n",
       "Labrador Retriever Mix       4841\n",
       "German Shepherd Mix          1963\n",
       "Australian Cattle Dog Mix    1105\n",
       "Name: breed, dtype: int64"
      ]
     },
     "execution_count": 52,
     "metadata": {},
     "output_type": "execute_result"
    }
   ],
   "source": [
    "top_dog_breeds = intakes[intakes['animal_type'] == 'Dog']\n",
    "top_dog_breeds = top_dog_breeds['breed'].value_counts()\n",
    "top_dog_breeds = top_dog_breeds[:5]\n",
    "top_dog_breeds"
   ]
  },
  {
   "cell_type": "code",
   "execution_count": 53,
   "id": "5191c7db",
   "metadata": {},
   "outputs": [
    {
     "data": {
      "text/plain": [
       "Labrador Retriever Mix       2405\n",
       "Pit Bull Mix                 2383\n",
       "Chihuahua Shorthair Mix      2293\n",
       "German Shepherd Mix           937\n",
       "Australian Cattle Dog Mix     619\n",
       "dtype: int64"
      ]
     },
     "execution_count": 53,
     "metadata": {},
     "output_type": "execute_result"
    }
   ],
   "source": [
    "adopted_dogs = outcomes[(outcomes['outcome_type'] == 'Adoption') & (outcomes['animal_type'] == 'Dog')]\n",
    "\n",
    "dogs = []\n",
    "\n",
    "for x in adopted_dogs['breed']:\n",
    "    if x in top_dog_breeds:\n",
    "        dogs.append(x)\n",
    "        \n",
    "dogs = pd.Series(dogs)\n",
    "dogs = dogs.value_counts()\n",
    "dogs"
   ]
  },
  {
   "cell_type": "code",
   "execution_count": 54,
   "id": "930e8f58",
   "metadata": {},
   "outputs": [
    {
     "data": {
      "text/plain": [
       "Australian Cattle Dog Mix    56.018100\n",
       "Chihuahua Shorthair Mix      47.181070\n",
       "German Shepherd Mix          47.733062\n",
       "Labrador Retriever Mix       49.679818\n",
       "Pit Bull Mix                 37.339392\n",
       "dtype: float64"
      ]
     },
     "execution_count": 54,
     "metadata": {},
     "output_type": "execute_result"
    }
   ],
   "source": [
    "percentage = dogs / top_dog_breeds *100\n",
    "percentage"
   ]
  },
  {
   "cell_type": "markdown",
   "id": "5f36daaf",
   "metadata": {},
   "source": [
    "Top 5 colors and adoption rate"
   ]
  },
  {
   "cell_type": "code",
   "execution_count": 55,
   "id": "36e6bf6b",
   "metadata": {},
   "outputs": [
    {
     "data": {
      "text/plain": [
       "Black/White    8340\n",
       "Black          6710\n",
       "Brown Tabby    4487\n",
       "Brown          3618\n",
       "White          2849\n",
       "Name: color, dtype: int64"
      ]
     },
     "execution_count": 55,
     "metadata": {},
     "output_type": "execute_result"
    }
   ],
   "source": [
    "top_colors = intakes['color'].value_counts()\n",
    "top_colors = top_colors[:5]\n",
    "top_colors"
   ]
  },
  {
   "cell_type": "code",
   "execution_count": 56,
   "id": "2dc193d3",
   "metadata": {},
   "outputs": [
    {
     "data": {
      "text/plain": [
       "Black/White    3815\n",
       "Black          2760\n",
       "Brown Tabby    1914\n",
       "White          1082\n",
       "Brown           806\n",
       "dtype: int64"
      ]
     },
     "execution_count": 56,
     "metadata": {},
     "output_type": "execute_result"
    }
   ],
   "source": [
    "adopted_colors = outcomes[outcomes['outcome_type'] == 'Adoption']\n",
    "\n",
    "color = []\n",
    "\n",
    "for x in adopted_colors['color']:\n",
    "    if x in top_colors:\n",
    "        color.append(x)\n",
    "        \n",
    "color = pd.Series(color)\n",
    "color = color.value_counts()\n",
    "color"
   ]
  },
  {
   "cell_type": "code",
   "execution_count": 57,
   "id": "f16bcd69",
   "metadata": {},
   "outputs": [
    {
     "data": {
      "text/plain": [
       "Black          41.132638\n",
       "Black/White    45.743405\n",
       "Brown          22.277501\n",
       "Brown Tabby    42.656563\n",
       "White          37.978238\n",
       "dtype: float64"
      ]
     },
     "execution_count": 57,
     "metadata": {},
     "output_type": "execute_result"
    }
   ],
   "source": [
    "percentage = color / top_colors *100\n",
    "percentage"
   ]
  },
  {
   "cell_type": "markdown",
   "id": "b494d74b",
   "metadata": {},
   "source": [
    "to get the results I first created a variable (using the intakes file) for the top breeds / colors using a filter and value_counts() functions.\n",
    "then using the outcomes file I created another variable filtering for adopted animals and then using a loop to only get the animals that are in the top variable. I got a list and converted it to a Series to use the value_counts() functions.\n",
    "to get the percentage I divided both variables with each other"
   ]
  },
  {
   "cell_type": "markdown",
   "id": "4205c18c",
   "metadata": {},
   "source": [
    "### How many animals are spayed/neutered each month?\n",
    "” is answered\n",
    "The calculation assumes that all intact males and females will be spayed/neutered.\n",
    "There is an explanation of how the answer was calculated for this question"
   ]
  },
  {
   "cell_type": "code",
   "execution_count": 63,
   "id": "6799887d",
   "metadata": {},
   "outputs": [],
   "source": [
    "fixed = intakes[(intakes['sex_upon_intake'] == 'Intact Female') | (intakes['sex_upon_intake'] == 'Intact Male')]\n",
    "fixed = len(fixed)"
   ]
  },
  {
   "cell_type": "code",
   "execution_count": 61,
   "id": "f91a6e2e",
   "metadata": {},
   "outputs": [],
   "source": [
    "total_months = intakes_outcomes['intake_monthyear'].nunique()"
   ]
  },
  {
   "cell_type": "code",
   "execution_count": 66,
   "id": "50d422fc",
   "metadata": {},
   "outputs": [
    {
     "data": {
      "text/plain": [
       "914"
      ]
     },
     "execution_count": 66,
     "metadata": {},
     "output_type": "execute_result"
    }
   ],
   "source": [
    "round(fixed / total_months)"
   ]
  },
  {
   "cell_type": "markdown",
   "id": "4f93094a",
   "metadata": {},
   "source": [
    "to get the results I first got the number of all 'intact' animals using a filter and then len() functions. I then got the total amount of months using the nunique() function on the 'intake_monthyear' column. At the end I just divided both variables and rounded the result"
   ]
  },
  {
   "cell_type": "code",
   "execution_count": null,
   "id": "cc905a9d",
   "metadata": {},
   "outputs": [],
   "source": []
  },
  {
   "cell_type": "code",
   "execution_count": null,
   "id": "5c3e67bf",
   "metadata": {},
   "outputs": [],
   "source": []
  },
  {
   "cell_type": "code",
   "execution_count": null,
   "id": "4e6a8b80",
   "metadata": {},
   "outputs": [],
   "source": []
  },
  {
   "cell_type": "code",
   "execution_count": null,
   "id": "02dcb120",
   "metadata": {},
   "outputs": [],
   "source": []
  },
  {
   "cell_type": "code",
   "execution_count": null,
   "id": "cc440e02",
   "metadata": {},
   "outputs": [],
   "source": []
  },
  {
   "cell_type": "code",
   "execution_count": null,
   "id": "c26198c7",
   "metadata": {},
   "outputs": [],
   "source": []
  },
  {
   "cell_type": "code",
   "execution_count": null,
   "id": "a079e86d",
   "metadata": {},
   "outputs": [],
   "source": []
  },
  {
   "cell_type": "code",
   "execution_count": null,
   "id": "59b89b18",
   "metadata": {},
   "outputs": [],
   "source": []
  },
  {
   "cell_type": "code",
   "execution_count": null,
   "id": "d22f788f",
   "metadata": {},
   "outputs": [],
   "source": []
  },
  {
   "cell_type": "code",
   "execution_count": null,
   "id": "9d0ee076",
   "metadata": {},
   "outputs": [],
   "source": []
  },
  {
   "cell_type": "code",
   "execution_count": null,
   "id": "a4c4d8d2",
   "metadata": {},
   "outputs": [],
   "source": []
  },
  {
   "cell_type": "code",
   "execution_count": null,
   "id": "d9478f09",
   "metadata": {},
   "outputs": [],
   "source": []
  },
  {
   "cell_type": "code",
   "execution_count": null,
   "id": "b1ebd35c",
   "metadata": {},
   "outputs": [],
   "source": []
  },
  {
   "cell_type": "code",
   "execution_count": null,
   "id": "dc457e91",
   "metadata": {},
   "outputs": [],
   "source": []
  },
  {
   "cell_type": "code",
   "execution_count": null,
   "id": "b51aec93",
   "metadata": {},
   "outputs": [],
   "source": []
  },
  {
   "cell_type": "code",
   "execution_count": null,
   "id": "f67dbe55",
   "metadata": {},
   "outputs": [],
   "source": []
  }
 ],
 "metadata": {
  "kernelspec": {
   "display_name": "Python 3 (ipykernel)",
   "language": "python",
   "name": "python3"
  },
  "language_info": {
   "codemirror_mode": {
    "name": "ipython",
    "version": 3
   },
   "file_extension": ".py",
   "mimetype": "text/x-python",
   "name": "python",
   "nbconvert_exporter": "python",
   "pygments_lexer": "ipython3",
   "version": "3.9.12"
  },
  "toc": {
   "base_numbering": 1,
   "nav_menu": {},
   "number_sections": true,
   "sideBar": true,
   "skip_h1_title": false,
   "title_cell": "Table of Contents",
   "title_sidebar": "Contents",
   "toc_cell": false,
   "toc_position": {},
   "toc_section_display": true,
   "toc_window_display": false
  }
 },
 "nbformat": 4,
 "nbformat_minor": 5
}
